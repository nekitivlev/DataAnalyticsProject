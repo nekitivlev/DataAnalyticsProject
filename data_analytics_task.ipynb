{
 "cells": [
  {
   "cell_type": "markdown",
   "id": "ad86ac6986dbcea4",
   "metadata": {},
   "source": [
    "# Data Analytics Exam\n",
    "\n",
    "__Group participants:__ Artem Makoian, Nikita Ivlev, Veronika Sirotkina"
   ]
  },
  {
   "cell_type": "markdown",
   "id": "4093597d227ca0b9",
   "metadata": {},
   "source": [
    "## 1. Load and preprocess data"
   ]
  },
  {
   "cell_type": "code",
   "execution_count": 1,
   "id": "0ff4b061",
   "metadata": {
    "ExecuteTime": {
     "end_time": "2024-12-19T20:34:31.216439Z",
     "start_time": "2024-12-19T20:34:30.873251Z"
    }
   },
   "outputs": [
    {
     "name": "stdout",
     "output_type": "stream",
     "text": [
      "Airlines shape: (14, 2)\n",
      "Airports shape: (1251, 8)\n",
      "Flights shape: (435352, 19)\n",
      "Planes shape: (4840, 9)\n",
      "Weather shape: (26204, 15)\n"
     ]
    }
   ],
   "source": [
    "import pandas as pd\n",
    "\n",
    "# Load datasets\n",
    "airlines = pd.read_csv('Data/airlines.csv', delimiter=';', quotechar='\"', na_values='NA').drop(columns='Unnamed: 0')\n",
    "airports = pd.read_csv('Data/airports.csv', delimiter=';', quotechar='\"', na_values='NA').drop(columns='Unnamed: 0')\n",
    "flights = pd.read_csv('Data/flights.csv', delimiter=';', quotechar='\"', na_values='NA').drop(columns='Unnamed: 0')\n",
    "planes = pd.read_csv('Data/planes.csv', delimiter=';', quotechar='\"', na_values='NA').drop(columns='Unnamed: 0')\n",
    "weather = pd.read_csv('Data/weather.csv', delimiter=';', quotechar='\"', na_values='NA').drop(columns='Unnamed: 0')\n",
    "\n",
    "# Display basic information about the datasets\n",
    "print(\"Airlines shape:\", airlines.shape)\n",
    "print(\"Airports shape:\", airports.shape)\n",
    "print(\"Flights shape:\", flights.shape)\n",
    "print(\"Planes shape:\", planes.shape)\n",
    "print(\"Weather shape:\", weather.shape)"
   ]
  },
  {
   "cell_type": "code",
   "execution_count": null,
   "id": "631938bc",
   "metadata": {
    "ExecuteTime": {
     "end_time": "2024-12-19T20:34:31.227417Z",
     "start_time": "2024-12-19T20:34:31.219564Z"
    }
   },
   "outputs": [],
   "source": [
    "def col_filna(col):\n",
    "    return col.fillna(col[~col.isna()].astype(str).str.replace(',', '.').astype('float').mean())\n",
    "\n",
    "\n",
    "def clean_airports(df):\n",
    "    # Drop rows with missing data since there is little of them\n",
    "    df['faa'] = df['faa'].astype(str)\n",
    "    df['name'] = df['name'].astype(str)\n",
    "    df['lat'] = df['lat'].astype(str).str.replace(',', '.').astype(float)\n",
    "    df['lon'] = df['lon'].astype(str).str.replace(',', '.').astype(float)\n",
    "    df['alt'] = df['alt'].astype(str).str.replace(',', '.').astype(float)\n",
    "    df['tz'] = col_filna(df['tz']).astype(int)\n",
    "    df['dst'] = df['dst'].astype(str)\n",
    "    df['tzone'] = df['tzone'].astype(str)\n",
    "    return df\n",
    "\n",
    "\n",
    "def clean_flights(df):\n",
    "    df['year'] = df['year'].astype(int)\n",
    "    df['month'] = df['month'].astype(int)\n",
    "    df['day'] = df['day'].astype(int)\n",
    "    df['sched_dep_time'] = df['sched_dep_time'].astype(int)\n",
    "    df['dep_delay'] = col_filna(df['dep_delay']).astype(int)\n",
    "    df['air_time'] = col_filna(df['air_time']).astype(str).str.replace(',', '.').astype(float)\n",
    "    df['sched_arr_time'] = df['sched_arr_time'].astype(int)\n",
    "    df = df.dropna()\n",
    "    df['arr_delay'] = df['arr_delay'].astype(int)\n",
    "\n",
    "    # Data in dep_time and arr_time is corrupted due to not taking into account departing/arriving on the next day\n",
    "    df['dep_time'] = df['sched_dep_time'] + df['dep_delay']\n",
    "    df['arr_time'] = df['sched_arr_time'] + df['arr_delay']\n",
    "\n",
    "    df['carrier'] = df['carrier'].astype(str)\n",
    "    df['flight'] = df['flight'].astype(int)\n",
    "    df['tailnum'] = df['tailnum'].astype(str)\n",
    "    df['origin'] = df['origin'].astype(str)\n",
    "    df['dest'] = df['dest'].astype(str)\n",
    "    df['distance'] = df['distance'].astype(str).str.replace(',', '.').astype(float)\n",
    "    df['hour'] = df['hour'].astype(int)\n",
    "    df['minute'] = df['minute'].astype(int)\n",
    "    df['time_hour'] = pd.to_datetime(df['time_hour'])\n",
    "    return df\n",
    "\n",
    "\n",
    "def clean_planes(df):\n",
    "    df['tailnum'] = df['tailnum'].astype(str)\n",
    "    df['year'] = col_filna(df['year']).astype(int)\n",
    "    df['type'] = df['type'].astype(str)\n",
    "    df['manufacturer'] = df['manufacturer'].astype(str)\n",
    "    df['model'] = df['model'].astype(str)\n",
    "    df['engines'] = df['engines'].astype(int)\n",
    "    df['seats'] = df['seats'].astype(int)\n",
    "    df['speed'] = df['speed'].astype(str).str.replace(',', '.').astype(float)\n",
    "    df['engine'] = df['engine'].astype(str)\n",
    "    return df\n",
    "\n",
    "\n",
    "def clean_weather(df):\n",
    "    # These columns are almost completely filled with NA.\n",
    "    # The number of non-NA fields is too small to conclude anything, so we are dropping them\n",
    "    df = df.drop(columns=['temp', 'dewp', 'humid', 'precip', 'pressure'])\n",
    "\n",
    "    df['year'] = df['year'].astype(int)\n",
    "    df['month'] = df['month'].astype(int)\n",
    "    df['day'] = df['day'].astype(int)\n",
    "    df['hour'] = df['hour'].astype(int)\n",
    "    df['wind_dir'] = col_filna(df['wind_dir']).astype(int)\n",
    "    df['wind_speed'] = col_filna(df['wind_speed']).astype(str).str.replace(',', '.').astype(float)\n",
    "    df['wind_gust'] = col_filna(df['wind_gust']).astype(str).str.replace(',', '.').astype(float)\n",
    "    df['visib'] = col_filna(df['visib']).astype(str).str.replace(',', '.').astype(float)\n",
    "    df['time_hour'] = pd.to_datetime(df['time_hour'], errors='coerce')\n",
    "    df = df.dropna()\n",
    "    return df"
   ]
  },
  {
   "cell_type": "code",
   "execution_count": 31,
   "id": "ae7c0f1dee08d1a",
   "metadata": {
    "ExecuteTime": {
     "end_time": "2024-12-19T20:34:31.722990Z",
     "start_time": "2024-12-19T20:34:31.250783Z"
    }
   },
   "outputs": [
    {
     "name": "stderr",
     "output_type": "stream",
     "text": [
      "/var/folders/vy/v3mdfnp92334mtsy37n_rf9r0000gn/T/ipykernel_35036/1994890764.py:26: SettingWithCopyWarning: \n",
      "A value is trying to be set on a copy of a slice from a DataFrame.\n",
      "Try using .loc[row_indexer,col_indexer] = value instead\n",
      "\n",
      "See the caveats in the documentation: https://pandas.pydata.org/pandas-docs/stable/user_guide/indexing.html#returning-a-view-versus-a-copy\n",
      "  df['arr_delay'] = df['arr_delay'].astype(int)\n",
      "/var/folders/vy/v3mdfnp92334mtsy37n_rf9r0000gn/T/ipykernel_35036/1994890764.py:29: SettingWithCopyWarning: \n",
      "A value is trying to be set on a copy of a slice from a DataFrame.\n",
      "Try using .loc[row_indexer,col_indexer] = value instead\n",
      "\n",
      "See the caveats in the documentation: https://pandas.pydata.org/pandas-docs/stable/user_guide/indexing.html#returning-a-view-versus-a-copy\n",
      "  df['dep_time'] = df['sched_dep_time'] + df['dep_delay']\n",
      "/var/folders/vy/v3mdfnp92334mtsy37n_rf9r0000gn/T/ipykernel_35036/1994890764.py:30: SettingWithCopyWarning: \n",
      "A value is trying to be set on a copy of a slice from a DataFrame.\n",
      "Try using .loc[row_indexer,col_indexer] = value instead\n",
      "\n",
      "See the caveats in the documentation: https://pandas.pydata.org/pandas-docs/stable/user_guide/indexing.html#returning-a-view-versus-a-copy\n",
      "  df['arr_time'] = df['sched_arr_time'] + df['arr_delay']\n",
      "/var/folders/vy/v3mdfnp92334mtsy37n_rf9r0000gn/T/ipykernel_35036/1994890764.py:32: SettingWithCopyWarning: \n",
      "A value is trying to be set on a copy of a slice from a DataFrame.\n",
      "Try using .loc[row_indexer,col_indexer] = value instead\n",
      "\n",
      "See the caveats in the documentation: https://pandas.pydata.org/pandas-docs/stable/user_guide/indexing.html#returning-a-view-versus-a-copy\n",
      "  df['carrier'] = df['carrier'].astype(str)\n",
      "/var/folders/vy/v3mdfnp92334mtsy37n_rf9r0000gn/T/ipykernel_35036/1994890764.py:33: SettingWithCopyWarning: \n",
      "A value is trying to be set on a copy of a slice from a DataFrame.\n",
      "Try using .loc[row_indexer,col_indexer] = value instead\n",
      "\n",
      "See the caveats in the documentation: https://pandas.pydata.org/pandas-docs/stable/user_guide/indexing.html#returning-a-view-versus-a-copy\n",
      "  df['flight'] = df['flight'].astype(int)\n",
      "/var/folders/vy/v3mdfnp92334mtsy37n_rf9r0000gn/T/ipykernel_35036/1994890764.py:34: SettingWithCopyWarning: \n",
      "A value is trying to be set on a copy of a slice from a DataFrame.\n",
      "Try using .loc[row_indexer,col_indexer] = value instead\n",
      "\n",
      "See the caveats in the documentation: https://pandas.pydata.org/pandas-docs/stable/user_guide/indexing.html#returning-a-view-versus-a-copy\n",
      "  df['tailnum'] = df['tailnum'].astype(str)\n",
      "/var/folders/vy/v3mdfnp92334mtsy37n_rf9r0000gn/T/ipykernel_35036/1994890764.py:35: SettingWithCopyWarning: \n",
      "A value is trying to be set on a copy of a slice from a DataFrame.\n",
      "Try using .loc[row_indexer,col_indexer] = value instead\n",
      "\n",
      "See the caveats in the documentation: https://pandas.pydata.org/pandas-docs/stable/user_guide/indexing.html#returning-a-view-versus-a-copy\n",
      "  df['origin'] = df['origin'].astype(str)\n",
      "/var/folders/vy/v3mdfnp92334mtsy37n_rf9r0000gn/T/ipykernel_35036/1994890764.py:36: SettingWithCopyWarning: \n",
      "A value is trying to be set on a copy of a slice from a DataFrame.\n",
      "Try using .loc[row_indexer,col_indexer] = value instead\n",
      "\n",
      "See the caveats in the documentation: https://pandas.pydata.org/pandas-docs/stable/user_guide/indexing.html#returning-a-view-versus-a-copy\n",
      "  df['dest'] = df['dest'].astype(str)\n",
      "/var/folders/vy/v3mdfnp92334mtsy37n_rf9r0000gn/T/ipykernel_35036/1994890764.py:37: SettingWithCopyWarning: \n",
      "A value is trying to be set on a copy of a slice from a DataFrame.\n",
      "Try using .loc[row_indexer,col_indexer] = value instead\n",
      "\n",
      "See the caveats in the documentation: https://pandas.pydata.org/pandas-docs/stable/user_guide/indexing.html#returning-a-view-versus-a-copy\n",
      "  df['distance'] = df['distance'].astype(str).str.replace(',', '.').astype(float)\n",
      "/var/folders/vy/v3mdfnp92334mtsy37n_rf9r0000gn/T/ipykernel_35036/1994890764.py:38: SettingWithCopyWarning: \n",
      "A value is trying to be set on a copy of a slice from a DataFrame.\n",
      "Try using .loc[row_indexer,col_indexer] = value instead\n",
      "\n",
      "See the caveats in the documentation: https://pandas.pydata.org/pandas-docs/stable/user_guide/indexing.html#returning-a-view-versus-a-copy\n",
      "  df['hour'] = df['hour'].astype(int)\n",
      "/var/folders/vy/v3mdfnp92334mtsy37n_rf9r0000gn/T/ipykernel_35036/1994890764.py:39: SettingWithCopyWarning: \n",
      "A value is trying to be set on a copy of a slice from a DataFrame.\n",
      "Try using .loc[row_indexer,col_indexer] = value instead\n",
      "\n",
      "See the caveats in the documentation: https://pandas.pydata.org/pandas-docs/stable/user_guide/indexing.html#returning-a-view-versus-a-copy\n",
      "  df['minute'] = df['minute'].astype(int)\n",
      "/var/folders/vy/v3mdfnp92334mtsy37n_rf9r0000gn/T/ipykernel_35036/1994890764.py:40: SettingWithCopyWarning: \n",
      "A value is trying to be set on a copy of a slice from a DataFrame.\n",
      "Try using .loc[row_indexer,col_indexer] = value instead\n",
      "\n",
      "See the caveats in the documentation: https://pandas.pydata.org/pandas-docs/stable/user_guide/indexing.html#returning-a-view-versus-a-copy\n",
      "  df['time_hour'] = pd.to_datetime(df['time_hour'])\n"
     ]
    }
   ],
   "source": [
    "airports_cleaned = clean_airports(airports)\n",
    "flights_cleaned = clean_flights(flights)\n",
    "planes_cleaned = clean_planes(planes)\n",
    "weather_cleaned = clean_weather(weather)"
   ]
  },
  {
   "cell_type": "code",
   "execution_count": 15,
   "id": "f433005c",
   "metadata": {},
   "outputs": [
    {
     "name": "stdout",
     "output_type": "stream",
     "text": [
      "<class 'pandas.core.frame.DataFrame'>\n",
      "RangeIndex: 1251 entries, 0 to 1250\n",
      "Data columns (total 8 columns):\n",
      " #   Column  Non-Null Count  Dtype\n",
      "---  ------  --------------  -----\n",
      " 0   faa     1251 non-null   bool \n",
      " 1   name    1251 non-null   bool \n",
      " 2   lat     1251 non-null   bool \n",
      " 3   lon     1251 non-null   bool \n",
      " 4   alt     1251 non-null   bool \n",
      " 5   tz      1251 non-null   bool \n",
      " 6   dst     1251 non-null   bool \n",
      " 7   tzone   1251 non-null   bool \n",
      "dtypes: bool(8)\n",
      "memory usage: 9.9 KB\n",
      "None\n",
      "<class 'pandas.core.frame.DataFrame'>\n",
      "Index: 422818 entries, 0 to 435351\n",
      "Data columns (total 19 columns):\n",
      " #   Column          Non-Null Count   Dtype\n",
      "---  ------          --------------   -----\n",
      " 0   year            422818 non-null  bool \n",
      " 1   month           422818 non-null  bool \n",
      " 2   day             422818 non-null  bool \n",
      " 3   dep_time        422818 non-null  bool \n",
      " 4   sched_dep_time  422818 non-null  bool \n",
      " 5   dep_delay       422818 non-null  bool \n",
      " 6   arr_time        422818 non-null  bool \n",
      " 7   sched_arr_time  422818 non-null  bool \n",
      " 8   arr_delay       422818 non-null  bool \n",
      " 9   carrier         422818 non-null  bool \n",
      " 10  flight          422818 non-null  bool \n",
      " 11  tailnum         422818 non-null  bool \n",
      " 12  origin          422818 non-null  bool \n",
      " 13  dest            422818 non-null  bool \n",
      " 14  air_time        422818 non-null  bool \n",
      " 15  distance        422818 non-null  bool \n",
      " 16  hour            422818 non-null  bool \n",
      " 17  minute          422818 non-null  bool \n",
      " 18  time_hour       422818 non-null  bool \n",
      "dtypes: bool(19)\n",
      "memory usage: 10.9 MB\n",
      "None\n",
      "<class 'pandas.core.frame.DataFrame'>\n",
      "RangeIndex: 4840 entries, 0 to 4839\n",
      "Data columns (total 9 columns):\n",
      " #   Column        Non-Null Count  Dtype\n",
      "---  ------        --------------  -----\n",
      " 0   tailnum       4840 non-null   bool \n",
      " 1   year          4840 non-null   bool \n",
      " 2   type          4840 non-null   bool \n",
      " 3   manufacturer  4840 non-null   bool \n",
      " 4   model         4840 non-null   bool \n",
      " 5   engines       4840 non-null   bool \n",
      " 6   seats         4840 non-null   bool \n",
      " 7   speed         4840 non-null   bool \n",
      " 8   engine        4840 non-null   bool \n",
      "dtypes: bool(9)\n",
      "memory usage: 42.7 KB\n",
      "None\n",
      "<class 'pandas.core.frame.DataFrame'>\n",
      "RangeIndex: 26204 entries, 0 to 26203\n",
      "Data columns (total 10 columns):\n",
      " #   Column      Non-Null Count  Dtype\n",
      "---  ------      --------------  -----\n",
      " 0   origin      26204 non-null  bool \n",
      " 1   year        26204 non-null  bool \n",
      " 2   month       26204 non-null  bool \n",
      " 3   day         26204 non-null  bool \n",
      " 4   hour        26204 non-null  bool \n",
      " 5   wind_dir    26204 non-null  bool \n",
      " 6   wind_speed  26204 non-null  bool \n",
      " 7   wind_gust   26204 non-null  bool \n",
      " 8   visib       26204 non-null  bool \n",
      " 9   time_hour   26204 non-null  bool \n",
      "dtypes: bool(10)\n",
      "memory usage: 256.0 KB\n",
      "None\n"
     ]
    }
   ],
   "source": [
    "print(airports_cleaned.isna().info())\n",
    "print(flights_cleaned.isna().info())\n",
    "print(planes_cleaned.isna().info())\n",
    "print(weather_cleaned.isna().info())"
   ]
  },
  {
   "cell_type": "markdown",
   "id": "52907307",
   "metadata": {},
   "source": [
    "## 2. Explore table data"
   ]
  },
  {
   "cell_type": "code",
   "execution_count": 33,
   "id": "94f326b557a82925",
   "metadata": {
    "ExecuteTime": {
     "end_time": "2024-12-19T20:34:33.664539Z",
     "start_time": "2024-12-19T20:34:31.747719Z"
    }
   },
   "outputs": [
    {
     "name": "stdout",
     "output_type": "stream",
     "text": [
      "Summary for Airports:\n",
      "         faa                  name          lat          lon          alt  \\\n",
      "count   1251                  1251  1251.000000  1251.000000  1251.000000   \n",
      "unique  1251                  1248          NaN          NaN          NaN   \n",
      "top      AAF  Capital City Airport          NaN          NaN          NaN   \n",
      "freq       1                     3          NaN          NaN          NaN   \n",
      "mean     NaN                   NaN    40.933284  -103.465931  1121.992006   \n",
      "std      NaN                   NaN    10.193500    28.112110  1602.521826   \n",
      "min      NaN                   NaN    19.721399  -176.645996  -115.000000   \n",
      "25%      NaN                   NaN    34.103500  -117.876000    96.000000   \n",
      "50%      NaN                   NaN    39.345100   -95.912498   551.000000   \n",
      "75%      NaN                   NaN    44.316700   -83.286251  1226.000000   \n",
      "max      NaN                   NaN    71.285402   174.113998  9070.000000   \n",
      "\n",
      "                 tz   dst             tzone  \n",
      "count   1251.000000  1251              1251  \n",
      "unique          NaN     5                10  \n",
      "top             NaN     A  America/New_York  \n",
      "freq            NaN  1159               367  \n",
      "mean      -6.482014   NaN               NaN  \n",
      "std        1.557522   NaN               NaN  \n",
      "min      -10.000000   NaN               NaN  \n",
      "25%       -8.000000   NaN               NaN  \n",
      "50%       -6.000000   NaN               NaN  \n",
      "75%       -5.000000   NaN               NaN  \n",
      "max        8.000000   NaN               NaN  \n",
      "\n",
      "Missing values in Airports:\n",
      "faa      0\n",
      "name     0\n",
      "lat      0\n",
      "lon      0\n",
      "alt      0\n",
      "tz       0\n",
      "dst      0\n",
      "tzone    0\n",
      "dtype: int64\n",
      "\n",
      "--------------------------------------------------\n"
     ]
    },
    {
     "data": {
      "image/png": "[encoded data removed]",
      "text/plain": [
       "<Figure size 1000x600 with 1 Axes>"
      ]
     },
     "metadata": {},
     "output_type": "display_data"
    },
    {
     "name": "stdout",
     "output_type": "stream",
     "text": [
      "Summary for Flights:\n",
      "            year          month            day       dep_time  sched_dep_time  \\\n",
      "count   422818.0  422818.000000  422818.000000  422818.000000   422818.000000   \n",
      "unique       NaN            NaN            NaN            NaN             NaN   \n",
      "top          NaN            NaN            NaN            NaN             NaN   \n",
      "freq         NaN            NaN            NaN            NaN             NaN   \n",
      "mean      2023.0       6.428752      15.703208    1371.699587     1358.000381   \n",
      "min       2023.0       1.000000       1.000000     487.000000      500.000000   \n",
      "25%       2023.0       3.000000       8.000000     934.000000      930.000000   \n",
      "50%       2023.0       6.000000      16.000000    1379.000000     1355.000000   \n",
      "75%       2023.0       9.000000      23.000000    1792.000000     1755.000000   \n",
      "max       2023.0      12.000000      31.000000    3387.000000     2359.000000   \n",
      "std          0.0       3.439978       8.765872     487.301494      477.343077   \n",
      "\n",
      "            dep_delay       arr_time  sched_arr_time      arr_delay carrier  \\\n",
      "count   422818.000000  422818.000000   422818.000000  422818.000000  422818   \n",
      "unique            NaN            NaN             NaN            NaN      14   \n",
      "top               NaN            NaN             NaN            NaN      YX   \n",
      "freq              NaN            NaN             NaN            NaN   85431   \n",
      "mean        13.699206    1551.257068     1546.912265       4.344803     NaN   \n",
      "min        -50.000000     -77.000000        1.000000     -97.000000     NaN   \n",
      "25%         -6.000000    1126.000000     1133.000000     -22.000000     NaN   \n",
      "50%         -2.000000    1551.000000     1545.000000     -10.000000     NaN   \n",
      "75%         10.000000    2000.000000     2003.000000       9.000000     NaN   \n",
      "max       1813.000000    3842.000000     2359.000000    1812.000000     NaN   \n",
      "std         54.079424     520.006751      511.833519      57.868893     NaN   \n",
      "\n",
      "               flight tailnum  origin    dest       air_time       distance  \\\n",
      "count   422818.000000  422818  422818  422818  422818.000000  422818.000000   \n",
      "unique            NaN    5114       3     118            NaN            NaN   \n",
      "top               NaN  N490PX     LGA     BOS            NaN            NaN   \n",
      "freq              NaN     718  158800   18387            NaN            NaN   \n",
      "mean       783.191279     NaN     NaN     NaN     141.820258     981.303883   \n",
      "min          1.000000     NaN     NaN     NaN      18.000000      80.000000   \n",
      "25%        362.000000     NaN     NaN     NaN      77.000000     479.000000   \n",
      "50%        732.000000     NaN     NaN     NaN     121.000000     762.000000   \n",
      "75%       1186.000000     NaN     NaN     NaN     177.000000    1183.000000   \n",
      "max       1972.000000     NaN     NaN     NaN     701.000000    4983.000000   \n",
      "std        497.345748     NaN     NaN     NaN      89.172558     704.782823   \n",
      "\n",
      "                 hour         minute                      time_hour  \n",
      "count   422818.000000  422818.000000                         422818  \n",
      "unique            NaN            NaN                            NaN  \n",
      "top               NaN            NaN                            NaN  \n",
      "freq              NaN            NaN                            NaN  \n",
      "mean        13.295016      28.498799  2023-06-29 13:42:38.258161920  \n",
      "min          5.000000       0.000000            2023-01-01 05:00:00  \n",
      "25%          9.000000      10.000000            2023-03-29 21:00:00  \n",
      "50%         13.000000      29.000000            2023-06-25 15:00:00  \n",
      "75%         17.000000      45.000000            2023-09-29 10:00:00  \n",
      "max         23.000000      59.000000            2023-12-31 23:00:00  \n",
      "std          4.748123      19.618295                            NaN  \n",
      "\n",
      "Missing values in Flights:\n",
      "year              0\n",
      "month             0\n",
      "day               0\n",
      "dep_time          0\n",
      "sched_dep_time    0\n",
      "dep_delay         0\n",
      "arr_time          0\n",
      "sched_arr_time    0\n",
      "arr_delay         0\n",
      "carrier           0\n",
      "flight            0\n",
      "tailnum           0\n",
      "origin            0\n",
      "dest              0\n",
      "air_time          0\n",
      "distance          0\n",
      "hour              0\n",
      "minute            0\n",
      "time_hour         0\n",
      "dtype: int64\n",
      "\n",
      "--------------------------------------------------\n"
     ]
    },
    {
     "data": {
      "image/png": "[encoded data removed]",
      "text/plain": [
       "<Figure size 1000x600 with 1 Axes>"
      ]
     },
     "metadata": {},
     "output_type": "display_data"
    },
    {
     "name": "stderr",
     "output_type": "stream",
     "text": [
      "/var/folders/vy/v3mdfnp92334mtsy37n_rf9r0000gn/T/ipykernel_35036/3631951902.py:33: FutureWarning: \n",
      "\n",
      "Passing `palette` without assigning `hue` is deprecated and will be removed in v0.14.0. Assign the `x` variable to `hue` and set `legend=False` for the same effect.\n",
      "\n",
      "  sns.boxplot(data=flights_cleaned, x='month', y='arr_delay', palette='coolwarm')\n"
     ]
    },
    {
     "data": {
      "image/png": "[encoded data removed]",
      "text/plain": [
       "<Figure size 1000x600 with 1 Axes>"
      ]
     },
     "metadata": {},
     "output_type": "display_data"
    },
    {
     "name": "stdout",
     "output_type": "stream",
     "text": [
      "Summary for Planes:\n",
      "       tailnum         year                     type manufacturer  model  \\\n",
      "count     4840  4840.000000                     4840         4840   4840   \n",
      "unique    4840          NaN                        3           12     92   \n",
      "top     N101DQ          NaN  Fixed wing multi engine       BOEING  737-8   \n",
      "freq         1          NaN                     4838         2604    346   \n",
      "mean       NaN  2010.155165                      NaN          NaN    NaN   \n",
      "std        NaN     8.293347                      NaN          NaN    NaN   \n",
      "min        NaN  1990.000000                      NaN          NaN    NaN   \n",
      "25%        NaN  2002.000000                      NaN          NaN    NaN   \n",
      "50%        NaN  2011.000000                      NaN          NaN    NaN   \n",
      "75%        NaN  2017.000000                      NaN          NaN    NaN   \n",
      "max        NaN  2023.000000                      NaN          NaN    NaN   \n",
      "\n",
      "            engines        seats   speed     engine  \n",
      "count   4840.000000  4840.000000  4840.0       4840  \n",
      "unique          NaN          NaN     NaN          4  \n",
      "top             NaN          NaN     NaN  Turbo-fan  \n",
      "freq            NaN          NaN     NaN       4627  \n",
      "mean       2.000413   189.839050     0.0        NaN  \n",
      "std        0.028748    92.697687     0.0        NaN  \n",
      "min        1.000000     4.000000     0.0        NaN  \n",
      "25%        2.000000   140.000000     0.0        NaN  \n",
      "50%        2.000000   182.000000     0.0        NaN  \n",
      "75%        2.000000   200.000000     0.0        NaN  \n",
      "max        3.000000   563.000000     0.0        NaN  \n",
      "\n",
      "Missing values in Planes:\n",
      "tailnum         0\n",
      "year            0\n",
      "type            0\n",
      "manufacturer    0\n",
      "model           0\n",
      "engines         0\n",
      "seats           0\n",
      "speed           0\n",
      "engine          0\n",
      "dtype: int64\n",
      "\n",
      "--------------------------------------------------\n"
     ]
    },
    {
     "name": "stderr",
     "output_type": "stream",
     "text": [
      "/var/folders/vy/v3mdfnp92334mtsy37n_rf9r0000gn/T/ipykernel_35036/3631951902.py:42: FutureWarning: \n",
      "\n",
      "Passing `palette` without assigning `hue` is deprecated and will be removed in v0.14.0. Assign the `x` variable to `hue` and set `legend=False` for the same effect.\n",
      "\n",
      "  sns.countplot(data=planes_cleaned, x='year', palette='viridis')\n"
     ]
    },
    {
     "data": {
      "image/png": "[encoded data removed]",
      "text/plain": [
       "<Figure size 1000x600 with 1 Axes>"
      ]
     },
     "metadata": {},
     "output_type": "display_data"
    },
    {
     "name": "stdout",
     "output_type": "stream",
     "text": [
      "Summary for Weather:\n",
      "       origin     year         month           day          hour  \\\n",
      "count   25112  25112.0  25112.000000  25112.000000  25112.000000   \n",
      "unique      3      NaN           NaN           NaN           NaN   \n",
      "top       JFK      NaN           NaN           NaN           NaN   \n",
      "freq     8371      NaN           NaN           NaN           NaN   \n",
      "mean      NaN   2023.0      6.511469     15.679556     11.346687   \n",
      "min       NaN   2023.0      1.000000      1.000000      0.000000   \n",
      "25%       NaN   2023.0      4.000000      8.000000      5.000000   \n",
      "50%       NaN   2023.0      7.000000     16.000000     11.000000   \n",
      "75%       NaN   2023.0     10.000000     23.000000     18.000000   \n",
      "max       NaN   2023.0     12.000000     31.000000     23.000000   \n",
      "std       NaN      0.0      3.440724      8.772094      7.030021   \n",
      "\n",
      "            wind_dir    wind_speed     wind_gust         visib  \\\n",
      "count   25112.000000  25112.000000  25112.000000  25112.000000   \n",
      "unique           NaN           NaN           NaN           NaN   \n",
      "top              NaN           NaN           NaN           NaN   \n",
      "freq             NaN           NaN           NaN           NaN   \n",
      "mean      187.942498      9.431968     10.854120      9.299422   \n",
      "min         0.000000      0.000000      0.000000      0.240000   \n",
      "25%        90.000000      5.753900      6.621473     10.000000   \n",
      "50%       190.000000      9.206240     10.594357     10.000000   \n",
      "75%       280.000000     12.658580     14.567241     10.000000   \n",
      "max       360.000000     37.975740     43.701722     10.000000   \n",
      "std       108.954833      5.160585      5.938698      1.941812   \n",
      "\n",
      "                            time_hour  \n",
      "count                           25112  \n",
      "unique                            NaN  \n",
      "top                               NaN  \n",
      "freq                              NaN  \n",
      "mean    2023-07-02 08:39:59.808856320  \n",
      "min               2023-01-01 09:00:00  \n",
      "25%               2023-04-02 09:00:00  \n",
      "50%               2023-07-02 09:00:00  \n",
      "75%               2023-10-01 09:00:00  \n",
      "max               2023-12-31 08:00:00  \n",
      "std                               NaN  \n",
      "\n",
      "Missing values in Weather:\n",
      "origin        0\n",
      "year          0\n",
      "month         0\n",
      "day           0\n",
      "hour          0\n",
      "wind_dir      0\n",
      "wind_speed    0\n",
      "wind_gust     0\n",
      "visib         0\n",
      "time_hour     0\n",
      "dtype: int64\n",
      "\n",
      "--------------------------------------------------\n"
     ]
    },
    {
     "data": {
      "image/png": "[encoded data removed]",
      "text/plain": [
       "<Figure size 1000x600 with 1 Axes>"
      ]
     },
     "metadata": {},
     "output_type": "display_data"
    },
    {
     "data": {
      "image/png": "[encoded data removed]",
      "text/plain": [
       "<Figure size 800x600 with 2 Axes>"
      ]
     },
     "metadata": {},
     "output_type": "display_data"
    }
   ],
   "source": [
    "import matplotlib.pyplot as plt\n",
    "import seaborn as sns\n",
    "\n",
    "\n",
    "def dataset_summary(df, name):\n",
    "    print(f\"Summary for {name}:\")\n",
    "    print(df.describe(include='all'))\n",
    "    print(f\"\\nMissing values in {name}:\\n{df.isnull().sum()}\\n\")\n",
    "    print(\"-\" * 50)\n",
    "\n",
    "\n",
    "# Airports dataset\n",
    "dataset_summary(airports_cleaned, \"Airports\")\n",
    "plt.figure(figsize=(10, 6))\n",
    "sns.histplot(airports_cleaned['alt'], kde=True, bins=30)\n",
    "plt.title(\"Distribution of Airport Altitudes\")\n",
    "plt.xlabel(\"Altitude (ft)\")\n",
    "plt.ylabel(\"Frequency\")\n",
    "plt.show()\n",
    "\n",
    "# Flights dataset\n",
    "dataset_summary(flights_cleaned, \"Flights\")\n",
    "plt.figure(figsize=(10, 6))\n",
    "sns.histplot(flights_cleaned['arr_delay'], kde=True, bins=50, color='skyblue')\n",
    "plt.title(\"Distribution of Arrival Delays\")\n",
    "plt.xlabel(\"Arrival Delay (minutes)\")\n",
    "plt.ylabel(\"Frequency\")\n",
    "plt.xlim(flights_cleaned['arr_delay'].min(), flights_cleaned['arr_delay'].max())\n",
    "plt.show()\n",
    "\n",
    "# Explore flights delay trends by month\n",
    "plt.figure(figsize=(10, 6))\n",
    "sns.boxplot(data=flights_cleaned, x='month', y='arr_delay', palette='coolwarm')\n",
    "plt.title(\"Arrival Delay by Month\")\n",
    "plt.xlabel(\"Month\")\n",
    "plt.ylabel(\"Arrival Delay (minutes)\")\n",
    "plt.show()\n",
    "\n",
    "# Planes dataset\n",
    "dataset_summary(planes_cleaned, \"Planes\")\n",
    "plt.figure(figsize=(10, 6))\n",
    "sns.countplot(data=planes_cleaned, x='year', palette='viridis')\n",
    "plt.title(\"Number of Planes by Year of Manufacturing\")\n",
    "plt.xlabel(\"Year or manufacturing\")\n",
    "plt.ylabel(\"Plane count\")\n",
    "plt.show()\n",
    "\n",
    "# Weather dataset\n",
    "dataset_summary(weather_cleaned, \"Weather\")\n",
    "plt.figure(figsize=(10, 6))\n",
    "sns.histplot(weather_cleaned['wind_speed'], kde=True, bins=50, color='orange')\n",
    "plt.title(\"Distribution of wind speed\")\n",
    "plt.xlabel(\"Wind speed (mph)\")\n",
    "plt.ylabel(\"Frequency\")\n",
    "plt.show()\n",
    "\n",
    "# Correlation between distance and delays for Flights\n",
    "corr = flights_cleaned[['arr_delay', 'dep_delay', 'air_time', 'distance']].corr()\n",
    "plt.figure(figsize=(8, 6))\n",
    "sns.heatmap(corr, annot=True, cmap='coolwarm', fmt=\".2f\")\n",
    "plt.title(\"Correlation Matrix for Flights\")\n",
    "plt.show()"
   ]
  },
  {
   "cell_type": "markdown",
   "id": "3ccac560fe0642a9",
   "metadata": {},
   "source": [
    "## 3 Training"
   ]
  },
  {
   "cell_type": "markdown",
   "id": "2e0f3141",
   "metadata": {},
   "source": [
    "### Example"
   ]
  },
  {
   "cell_type": "markdown",
   "id": "663f4e06",
   "metadata": {},
   "source": [
    "\n",
    "#### Preprocess data to predict month of the year by weather"
   ]
  },
  {
   "cell_type": "code",
   "execution_count": 34,
   "id": "0f67d0d0",
   "metadata": {
    "ExecuteTime": {
     "end_time": "2024-12-19T20:34:33.691830Z",
     "start_time": "2024-12-19T20:34:33.688628Z"
    }
   },
   "outputs": [],
   "source": [
    "# Features and target\n",
    "X = weather_cleaned[['wind_dir', 'wind_speed', 'wind_gust', 'visib']]\n",
    "y = weather_cleaned['month']"
   ]
  },
  {
   "cell_type": "code",
   "execution_count": 35,
   "id": "55a79700",
   "metadata": {
    "ExecuteTime": {
     "end_time": "2024-12-19T20:34:33.720026Z",
     "start_time": "2024-12-19T20:34:33.714640Z"
    }
   },
   "outputs": [],
   "source": [
    "from sklearn.model_selection import train_test_split\n",
    "from sklearn.preprocessing import StandardScaler\n",
    "\n",
    "# Split data into training and testing sets\n",
    "X_train, X_test, y_train, y_test = train_test_split(X, y, test_size=0.2, random_state=42)\n",
    "\n",
    "# Normalize numerical values\n",
    "scaler = StandardScaler()\n",
    "X_train_scaled = scaler.fit_transform(X_train)\n",
    "X_test_scaled = scaler.transform(X_test)"
   ]
  },
  {
   "cell_type": "markdown",
   "id": "2a8ea124",
   "metadata": {},
   "source": [
    "#### Train model"
   ]
  },
  {
   "cell_type": "code",
   "execution_count": 36,
   "id": "3b1f472a",
   "metadata": {
    "ExecuteTime": {
     "end_time": "2024-12-19T20:34:34.421299Z",
     "start_time": "2024-12-19T20:34:33.742651Z"
    }
   },
   "outputs": [
    {
     "name": "stderr",
     "output_type": "stream",
     "text": [
      "/Users/makartkar/work/cub/data_analytics/DataAnalyticsProject/.venv/lib/python3.13/site-packages/sklearn/linear_model/_logistic.py:1247: FutureWarning: 'multi_class' was deprecated in version 1.5 and will be removed in 1.7. From then on, it will always use 'multinomial'. Leave it to its default value to avoid this warning.\n",
      "  warnings.warn(\n",
      "/Users/makartkar/work/cub/data_analytics/DataAnalyticsProject/.venv/lib/python3.13/site-packages/sklearn/metrics/_classification.py:1565: UndefinedMetricWarning: Precision is ill-defined and being set to 0.0 in labels with no predicted samples. Use `zero_division` parameter to control this behavior.\n",
      "  _warn_prf(average, modifier, f\"{metric.capitalize()} is\", len(result))\n",
      "/Users/makartkar/work/cub/data_analytics/DataAnalyticsProject/.venv/lib/python3.13/site-packages/sklearn/metrics/_classification.py:1565: UndefinedMetricWarning: Precision is ill-defined and being set to 0.0 in labels with no predicted samples. Use `zero_division` parameter to control this behavior.\n",
      "  _warn_prf(average, modifier, f\"{metric.capitalize()} is\", len(result))\n",
      "/Users/makartkar/work/cub/data_analytics/DataAnalyticsProject/.venv/lib/python3.13/site-packages/sklearn/metrics/_classification.py:1565: UndefinedMetricWarning: Precision is ill-defined and being set to 0.0 in labels with no predicted samples. Use `zero_division` parameter to control this behavior.\n",
      "  _warn_prf(average, modifier, f\"{metric.capitalize()} is\", len(result))\n"
     ]
    },
    {
     "name": "stdout",
     "output_type": "stream",
     "text": [
      "Logistic Regression Results:\n",
      "              precision    recall  f1-score   support\n",
      "\n",
      "           1       0.08      0.03      0.05       429\n",
      "           2       0.00      0.00      0.00       379\n",
      "           3       0.16      0.39      0.23       406\n",
      "           4       0.21      0.08      0.11       444\n",
      "           5       0.00      0.00      0.00       439\n",
      "           6       0.29      0.00      0.01       458\n",
      "           7       0.12      0.26      0.16       415\n",
      "           8       0.12      0.30      0.17       422\n",
      "           9       0.14      0.20      0.17       396\n",
      "          10       0.00      0.00      0.00       421\n",
      "          11       0.10      0.25      0.15       363\n",
      "          12       0.19      0.14      0.16       451\n",
      "\n",
      "    accuracy                           0.13      5023\n",
      "   macro avg       0.12      0.14      0.10      5023\n",
      "weighted avg       0.12      0.13      0.10      5023\n",
      "\n",
      "Accuracy: 0.133983675094565\n",
      "\n",
      "Random Forest Results:\n",
      "              precision    recall  f1-score   support\n",
      "\n",
      "           1       0.20      0.23      0.21       429\n",
      "           2       0.16      0.08      0.11       379\n",
      "           3       0.20      0.20      0.20       406\n",
      "           4       0.25      0.11      0.15       444\n",
      "           5       0.14      0.13      0.13       439\n",
      "           6       0.22      0.20      0.21       458\n",
      "           7       0.21      0.23      0.22       415\n",
      "           8       0.12      0.14      0.13       422\n",
      "           9       0.19      0.24      0.21       396\n",
      "          10       0.16      0.23      0.19       421\n",
      "          11       0.12      0.18      0.15       363\n",
      "          12       0.18      0.14      0.16       451\n",
      "\n",
      "    accuracy                           0.18      5023\n",
      "   macro avg       0.18      0.18      0.17      5023\n",
      "weighted avg       0.18      0.18      0.17      5023\n",
      "\n",
      "Accuracy: 0.17618952817041608\n"
     ]
    }
   ],
   "source": [
    "from sklearn.linear_model import LogisticRegression\n",
    "from sklearn.ensemble import RandomForestClassifier\n",
    "from sklearn.metrics import classification_report, accuracy_score\n",
    "\n",
    "# Logistic Regression\n",
    "logistic_model = LogisticRegression(multi_class='multinomial', max_iter=1000, random_state=42)\n",
    "logistic_model.fit(X_train_scaled, y_train)\n",
    "y_pred_logistic = logistic_model.predict(X_test_scaled)\n",
    "\n",
    "print(\"Logistic Regression Results:\")\n",
    "print(classification_report(y_test, y_pred_logistic))\n",
    "print(\"Accuracy:\", accuracy_score(y_test, y_pred_logistic))\n",
    "\n",
    "# Random Forest Classifier\n",
    "rf_model = RandomForestClassifier(random_state=42)\n",
    "rf_model.fit(X_train_scaled, y_train)\n",
    "y_pred_rf = rf_model.predict(X_test_scaled)\n",
    "\n",
    "print(\"\\nRandom Forest Results:\")\n",
    "print(classification_report(y_test, y_pred_rf))\n",
    "print(\"Accuracy:\", accuracy_score(y_test, y_pred_rf))"
   ]
  },
  {
   "cell_type": "markdown",
   "id": "411daad6",
   "metadata": {},
   "source": [
    "### Training"
   ]
  },
  {
   "cell_type": "code",
   "execution_count": 85,
   "id": "f0b73e16",
   "metadata": {},
   "outputs": [
    {
     "data": {
      "text/html": [
       "<div>\n",
       "<style scoped>\n",
       "    .dataframe tbody tr th:only-of-type {\n",
       "        vertical-align: middle;\n",
       "    }\n",
       "\n",
       "    .dataframe tbody tr th {\n",
       "        vertical-align: top;\n",
       "    }\n",
       "\n",
       "    .dataframe thead th {\n",
       "        text-align: right;\n",
       "    }\n",
       "</style>\n",
       "<table border=\"1\" class=\"dataframe\">\n",
       "  <thead>\n",
       "    <tr style=\"text-align: right;\">\n",
       "      <th></th>\n",
       "      <th>year</th>\n",
       "      <th>month</th>\n",
       "      <th>day</th>\n",
       "      <th>dep_time</th>\n",
       "      <th>sched_dep_time</th>\n",
       "      <th>dep_delay</th>\n",
       "      <th>arr_time</th>\n",
       "      <th>sched_arr_time</th>\n",
       "      <th>arr_delay</th>\n",
       "      <th>carrier</th>\n",
       "      <th>...</th>\n",
       "      <th>engines</th>\n",
       "      <th>seats</th>\n",
       "      <th>speed</th>\n",
       "      <th>engine</th>\n",
       "      <th>origin_weather</th>\n",
       "      <th>hour_weather</th>\n",
       "      <th>wind_dir</th>\n",
       "      <th>wind_speed</th>\n",
       "      <th>wind_gust</th>\n",
       "      <th>visib</th>\n",
       "    </tr>\n",
       "  </thead>\n",
       "  <tbody>\n",
       "    <tr>\n",
       "      <th>0</th>\n",
       "      <td>2023</td>\n",
       "      <td>1</td>\n",
       "      <td>1</td>\n",
       "      <td>2241</td>\n",
       "      <td>2038</td>\n",
       "      <td>203</td>\n",
       "      <td>208</td>\n",
       "      <td>3</td>\n",
       "      <td>205</td>\n",
       "      <td>UA</td>\n",
       "      <td>...</td>\n",
       "      <td>2</td>\n",
       "      <td>149</td>\n",
       "      <td>0.0</td>\n",
       "      <td>Turbo-fan</td>\n",
       "      <td>JFK</td>\n",
       "      <td>11</td>\n",
       "      <td>260</td>\n",
       "      <td>11.507800</td>\n",
       "      <td>13.242946</td>\n",
       "      <td>6.0</td>\n",
       "    </tr>\n",
       "    <tr>\n",
       "      <th>1</th>\n",
       "      <td>2023</td>\n",
       "      <td>1</td>\n",
       "      <td>1</td>\n",
       "      <td>2241</td>\n",
       "      <td>2038</td>\n",
       "      <td>203</td>\n",
       "      <td>208</td>\n",
       "      <td>3</td>\n",
       "      <td>205</td>\n",
       "      <td>UA</td>\n",
       "      <td>...</td>\n",
       "      <td>2</td>\n",
       "      <td>149</td>\n",
       "      <td>0.0</td>\n",
       "      <td>Turbo-fan</td>\n",
       "      <td>LGA</td>\n",
       "      <td>11</td>\n",
       "      <td>240</td>\n",
       "      <td>9.206240</td>\n",
       "      <td>10.594357</td>\n",
       "      <td>10.0</td>\n",
       "    </tr>\n",
       "    <tr>\n",
       "      <th>2</th>\n",
       "      <td>2023</td>\n",
       "      <td>1</td>\n",
       "      <td>1</td>\n",
       "      <td>2241</td>\n",
       "      <td>2038</td>\n",
       "      <td>203</td>\n",
       "      <td>208</td>\n",
       "      <td>3</td>\n",
       "      <td>205</td>\n",
       "      <td>UA</td>\n",
       "      <td>...</td>\n",
       "      <td>2</td>\n",
       "      <td>149</td>\n",
       "      <td>0.0</td>\n",
       "      <td>Turbo-fan</td>\n",
       "      <td>EWR</td>\n",
       "      <td>11</td>\n",
       "      <td>220</td>\n",
       "      <td>10.357020</td>\n",
       "      <td>11.918651</td>\n",
       "      <td>7.0</td>\n",
       "    </tr>\n",
       "    <tr>\n",
       "      <th>3</th>\n",
       "      <td>2023</td>\n",
       "      <td>1</td>\n",
       "      <td>1</td>\n",
       "      <td>2378</td>\n",
       "      <td>2300</td>\n",
       "      <td>78</td>\n",
       "      <td>188</td>\n",
       "      <td>135</td>\n",
       "      <td>53</td>\n",
       "      <td>DL</td>\n",
       "      <td>...</td>\n",
       "      <td>2</td>\n",
       "      <td>222</td>\n",
       "      <td>0.0</td>\n",
       "      <td>Turbo-fan</td>\n",
       "      <td>JFK</td>\n",
       "      <td>14</td>\n",
       "      <td>230</td>\n",
       "      <td>8.055460</td>\n",
       "      <td>9.270062</td>\n",
       "      <td>10.0</td>\n",
       "    </tr>\n",
       "    <tr>\n",
       "      <th>4</th>\n",
       "      <td>2023</td>\n",
       "      <td>1</td>\n",
       "      <td>1</td>\n",
       "      <td>2378</td>\n",
       "      <td>2300</td>\n",
       "      <td>78</td>\n",
       "      <td>188</td>\n",
       "      <td>135</td>\n",
       "      <td>53</td>\n",
       "      <td>DL</td>\n",
       "      <td>...</td>\n",
       "      <td>2</td>\n",
       "      <td>222</td>\n",
       "      <td>0.0</td>\n",
       "      <td>Turbo-fan</td>\n",
       "      <td>LGA</td>\n",
       "      <td>14</td>\n",
       "      <td>300</td>\n",
       "      <td>12.658580</td>\n",
       "      <td>14.567241</td>\n",
       "      <td>10.0</td>\n",
       "    </tr>\n",
       "    <tr>\n",
       "      <th>...</th>\n",
       "      <td>...</td>\n",
       "      <td>...</td>\n",
       "      <td>...</td>\n",
       "      <td>...</td>\n",
       "      <td>...</td>\n",
       "      <td>...</td>\n",
       "      <td>...</td>\n",
       "      <td>...</td>\n",
       "      <td>...</td>\n",
       "      <td>...</td>\n",
       "      <td>...</td>\n",
       "      <td>...</td>\n",
       "      <td>...</td>\n",
       "      <td>...</td>\n",
       "      <td>...</td>\n",
       "      <td>...</td>\n",
       "      <td>...</td>\n",
       "      <td>...</td>\n",
       "      <td>...</td>\n",
       "      <td>...</td>\n",
       "      <td>...</td>\n",
       "    </tr>\n",
       "    <tr>\n",
       "      <th>965300</th>\n",
       "      <td>2023</td>\n",
       "      <td>12</td>\n",
       "      <td>30</td>\n",
       "      <td>2310</td>\n",
       "      <td>2220</td>\n",
       "      <td>90</td>\n",
       "      <td>208</td>\n",
       "      <td>153</td>\n",
       "      <td>55</td>\n",
       "      <td>B6</td>\n",
       "      <td>...</td>\n",
       "      <td>2</td>\n",
       "      <td>379</td>\n",
       "      <td>0.0</td>\n",
       "      <td>Turbo-fan</td>\n",
       "      <td>LGA</td>\n",
       "      <td>13</td>\n",
       "      <td>250</td>\n",
       "      <td>12.658580</td>\n",
       "      <td>14.567241</td>\n",
       "      <td>10.0</td>\n",
       "    </tr>\n",
       "    <tr>\n",
       "      <th>965301</th>\n",
       "      <td>2023</td>\n",
       "      <td>12</td>\n",
       "      <td>30</td>\n",
       "      <td>2310</td>\n",
       "      <td>2220</td>\n",
       "      <td>90</td>\n",
       "      <td>208</td>\n",
       "      <td>153</td>\n",
       "      <td>55</td>\n",
       "      <td>B6</td>\n",
       "      <td>...</td>\n",
       "      <td>2</td>\n",
       "      <td>379</td>\n",
       "      <td>0.0</td>\n",
       "      <td>Turbo-fan</td>\n",
       "      <td>EWR</td>\n",
       "      <td>13</td>\n",
       "      <td>188</td>\n",
       "      <td>9.439861</td>\n",
       "      <td>10.863204</td>\n",
       "      <td>10.0</td>\n",
       "    </tr>\n",
       "    <tr>\n",
       "      <th>965302</th>\n",
       "      <td>2023</td>\n",
       "      <td>12</td>\n",
       "      <td>30</td>\n",
       "      <td>2314</td>\n",
       "      <td>2206</td>\n",
       "      <td>108</td>\n",
       "      <td>2424</td>\n",
       "      <td>2332</td>\n",
       "      <td>92</td>\n",
       "      <td>UA</td>\n",
       "      <td>...</td>\n",
       "      <td>2</td>\n",
       "      <td>191</td>\n",
       "      <td>0.0</td>\n",
       "      <td>Turbo-fan</td>\n",
       "      <td>JFK</td>\n",
       "      <td>13</td>\n",
       "      <td>270</td>\n",
       "      <td>14.960140</td>\n",
       "      <td>17.215830</td>\n",
       "      <td>10.0</td>\n",
       "    </tr>\n",
       "    <tr>\n",
       "      <th>965303</th>\n",
       "      <td>2023</td>\n",
       "      <td>12</td>\n",
       "      <td>30</td>\n",
       "      <td>2314</td>\n",
       "      <td>2206</td>\n",
       "      <td>108</td>\n",
       "      <td>2424</td>\n",
       "      <td>2332</td>\n",
       "      <td>92</td>\n",
       "      <td>UA</td>\n",
       "      <td>...</td>\n",
       "      <td>2</td>\n",
       "      <td>191</td>\n",
       "      <td>0.0</td>\n",
       "      <td>Turbo-fan</td>\n",
       "      <td>LGA</td>\n",
       "      <td>13</td>\n",
       "      <td>250</td>\n",
       "      <td>12.658580</td>\n",
       "      <td>14.567241</td>\n",
       "      <td>10.0</td>\n",
       "    </tr>\n",
       "    <tr>\n",
       "      <th>965304</th>\n",
       "      <td>2023</td>\n",
       "      <td>12</td>\n",
       "      <td>30</td>\n",
       "      <td>2314</td>\n",
       "      <td>2206</td>\n",
       "      <td>108</td>\n",
       "      <td>2424</td>\n",
       "      <td>2332</td>\n",
       "      <td>92</td>\n",
       "      <td>UA</td>\n",
       "      <td>...</td>\n",
       "      <td>2</td>\n",
       "      <td>191</td>\n",
       "      <td>0.0</td>\n",
       "      <td>Turbo-fan</td>\n",
       "      <td>EWR</td>\n",
       "      <td>13</td>\n",
       "      <td>188</td>\n",
       "      <td>9.439861</td>\n",
       "      <td>10.863204</td>\n",
       "      <td>10.0</td>\n",
       "    </tr>\n",
       "  </tbody>\n",
       "</table>\n",
       "<p>965305 rows × 47 columns</p>\n",
       "</div>"
      ],
      "text/plain": [
       "        year  month  day  dep_time  sched_dep_time  dep_delay  arr_time  \\\n",
       "0       2023      1    1      2241            2038        203       208   \n",
       "1       2023      1    1      2241            2038        203       208   \n",
       "2       2023      1    1      2241            2038        203       208   \n",
       "3       2023      1    1      2378            2300         78       188   \n",
       "4       2023      1    1      2378            2300         78       188   \n",
       "...      ...    ...  ...       ...             ...        ...       ...   \n",
       "965300  2023     12   30      2310            2220         90       208   \n",
       "965301  2023     12   30      2310            2220         90       208   \n",
       "965302  2023     12   30      2314            2206        108      2424   \n",
       "965303  2023     12   30      2314            2206        108      2424   \n",
       "965304  2023     12   30      2314            2206        108      2424   \n",
       "\n",
       "        sched_arr_time  arr_delay carrier  ...  engines seats speed  \\\n",
       "0                    3        205      UA  ...        2   149   0.0   \n",
       "1                    3        205      UA  ...        2   149   0.0   \n",
       "2                    3        205      UA  ...        2   149   0.0   \n",
       "3                  135         53      DL  ...        2   222   0.0   \n",
       "4                  135         53      DL  ...        2   222   0.0   \n",
       "...                ...        ...     ...  ...      ...   ...   ...   \n",
       "965300             153         55      B6  ...        2   379   0.0   \n",
       "965301             153         55      B6  ...        2   379   0.0   \n",
       "965302            2332         92      UA  ...        2   191   0.0   \n",
       "965303            2332         92      UA  ...        2   191   0.0   \n",
       "965304            2332         92      UA  ...        2   191   0.0   \n",
       "\n",
       "           engine  origin_weather  hour_weather  wind_dir  wind_speed  \\\n",
       "0       Turbo-fan             JFK            11       260   11.507800   \n",
       "1       Turbo-fan             LGA            11       240    9.206240   \n",
       "2       Turbo-fan             EWR            11       220   10.357020   \n",
       "3       Turbo-fan             JFK            14       230    8.055460   \n",
       "4       Turbo-fan             LGA            14       300   12.658580   \n",
       "...           ...             ...           ...       ...         ...   \n",
       "965300  Turbo-fan             LGA            13       250   12.658580   \n",
       "965301  Turbo-fan             EWR            13       188    9.439861   \n",
       "965302  Turbo-fan             JFK            13       270   14.960140   \n",
       "965303  Turbo-fan             LGA            13       250   12.658580   \n",
       "965304  Turbo-fan             EWR            13       188    9.439861   \n",
       "\n",
       "        wind_gust visib  \n",
       "0       13.242946   6.0  \n",
       "1       10.594357  10.0  \n",
       "2       11.918651   7.0  \n",
       "3        9.270062  10.0  \n",
       "4       14.567241  10.0  \n",
       "...           ...   ...  \n",
       "965300  14.567241  10.0  \n",
       "965301  10.863204  10.0  \n",
       "965302  17.215830  10.0  \n",
       "965303  14.567241  10.0  \n",
       "965304  10.863204  10.0  \n",
       "\n",
       "[965305 rows x 47 columns]"
      ]
     },
     "execution_count": 85,
     "metadata": {},
     "output_type": "execute_result"
    }
   ],
   "source": [
    "data = flights_cleaned.\\\n",
    "    merge(airports_cleaned.rename(columns={'faa': 'origin'}), on='origin', suffixes=('', '_origin')).\\\n",
    "    merge(airports_cleaned.rename(columns={'faa': 'dest'}), on='dest', suffixes=('', '_dest')).\\\n",
    "    merge(planes_cleaned, on='tailnum', suffixes=('', '_plane')).\\\n",
    "    merge(weather_cleaned, on=['time_hour', 'year', 'month', 'day'], suffixes=('', '_weather'))\n",
    "data"
   ]
  },
  {
   "cell_type": "code",
   "execution_count": 115,
   "id": "01acba81",
   "metadata": {},
   "outputs": [
    {
     "name": "stdout",
     "output_type": "stream",
     "text": [
      "<class 'pandas.core.frame.DataFrame'>\n",
      "Index: 965305 entries, 133 to 963312\n",
      "Data columns (total 47 columns):\n",
      " #   Column          Non-Null Count   Dtype         \n",
      "---  ------          --------------   -----         \n",
      " 0   year            965305 non-null  int64         \n",
      " 1   month           965305 non-null  int64         \n",
      " 2   day             965305 non-null  int64         \n",
      " 3   dep_time        965305 non-null  int64         \n",
      " 4   sched_dep_time  965305 non-null  int64         \n",
      " 5   dep_delay       965305 non-null  int64         \n",
      " 6   arr_time        965305 non-null  int64         \n",
      " 7   sched_arr_time  965305 non-null  int64         \n",
      " 8   arr_delay       965305 non-null  int64         \n",
      " 9   carrier         965305 non-null  object        \n",
      " 10  flight          965305 non-null  int64         \n",
      " 11  tailnum         965305 non-null  object        \n",
      " 12  origin          965305 non-null  object        \n",
      " 13  dest            965305 non-null  object        \n",
      " 14  air_time        965305 non-null  float64       \n",
      " 15  distance        965305 non-null  float64       \n",
      " 16  hour            965305 non-null  int64         \n",
      " 17  minute          965305 non-null  int64         \n",
      " 18  time_hour       965305 non-null  datetime64[ns]\n",
      " 19  name            965305 non-null  object        \n",
      " 20  lat             965305 non-null  float64       \n",
      " 21  lon             965305 non-null  float64       \n",
      " 22  alt             965305 non-null  float64       \n",
      " 23  tz              965305 non-null  int64         \n",
      " 24  dst             965305 non-null  object        \n",
      " 25  tzone           965305 non-null  object        \n",
      " 26  name_dest       965305 non-null  object        \n",
      " 27  lat_dest        965305 non-null  float64       \n",
      " 28  lon_dest        965305 non-null  float64       \n",
      " 29  alt_dest        965305 non-null  float64       \n",
      " 30  tz_dest         965305 non-null  int64         \n",
      " 31  dst_dest        965305 non-null  object        \n",
      " 32  tzone_dest      965305 non-null  object        \n",
      " 33  year_plane      965305 non-null  int64         \n",
      " 34  type            965305 non-null  object        \n",
      " 35  manufacturer    965305 non-null  object        \n",
      " 36  model           965305 non-null  object        \n",
      " 37  engines         965305 non-null  int64         \n",
      " 38  seats           965305 non-null  int64         \n",
      " 39  speed           965305 non-null  float64       \n",
      " 40  engine          965305 non-null  object        \n",
      " 41  origin_weather  965305 non-null  object        \n",
      " 42  hour_weather    965305 non-null  int64         \n",
      " 43  wind_dir        965305 non-null  int64         \n",
      " 44  wind_speed      965305 non-null  float64       \n",
      " 45  wind_gust       965305 non-null  float64       \n",
      " 46  visib           965305 non-null  float64       \n",
      "dtypes: datetime64[ns](1), float64(12), int64(19), object(15)\n",
      "memory usage: 353.5+ MB\n"
     ]
    }
   ],
   "source": [
    "data.info()"
   ]
  },
  {
   "cell_type": "code",
   "execution_count": 86,
   "id": "eccf3337",
   "metadata": {},
   "outputs": [
    {
     "data": {
      "text/plain": [
       "133      2023-01-01 09:00:00\n",
       "126      2023-01-01 09:00:00\n",
       "127      2023-01-01 09:00:00\n",
       "128      2023-01-01 09:00:00\n",
       "129      2023-01-01 09:00:00\n",
       "                 ...        \n",
       "965272   2023-12-30 22:00:00\n",
       "965304   2023-12-30 22:00:00\n",
       "963311   2023-12-30 23:00:00\n",
       "963310   2023-12-30 23:00:00\n",
       "963312   2023-12-30 23:00:00\n",
       "Name: time_hour, Length: 965305, dtype: datetime64[ns]"
      ]
     },
     "execution_count": 86,
     "metadata": {},
     "output_type": "execute_result"
    }
   ],
   "source": [
    "data = data.sort_values(by='time_hour')\n",
    "data['time_hour']"
   ]
  },
  {
   "cell_type": "code",
   "execution_count": 87,
   "id": "22d98750",
   "metadata": {},
   "outputs": [],
   "source": [
    "from sklearn.model_selection import train_test_split\n",
    "from sklearn.preprocessing import StandardScaler, OneHotEncoder\n",
    "from sklearn.compose import ColumnTransformer\n",
    "from sklearn.pipeline import Pipeline\n",
    "\n",
    "# Define preprocessors\n",
    "numerical_transformer = StandardScaler()\n",
    "categorical_transformer = OneHotEncoder(handle_unknown='ignore', sparse_output=False)\n",
    "\n",
    "# Identify categorical and numerical features\n",
    "categorical_features = [\n",
    "    'carrier', 'origin', 'dest', 'name', 'name_dest', 'tzone_dest', 'type', 'manufacturer', 'model', 'engine',\n",
    "]\n",
    "numerical_features = [\n",
    "    'year', 'month', 'day', 'sched_dep_time', 'sched_arr_time', 'distance',\n",
    "    'hour', 'minute', 'lat', 'lon', 'alt', 'tz',\n",
    "    'lat_dest', 'lon_dest', 'alt_dest', 'tz_dest', 'year_plane',\n",
    "    'engines', 'seats', 'speed', 'hour_weather',\n",
    "    'wind_dir', 'wind_speed', 'wind_gust', 'visib'\n",
    "]\n",
    "\n",
    "# Combine transformers in a column transformer\n",
    "preprocessor = ColumnTransformer(\n",
    "    transformers=[\n",
    "        ('num', numerical_transformer, numerical_features),\n",
    "        ('cat', categorical_transformer, categorical_features)\n",
    "    ])"
   ]
  },
  {
   "cell_type": "markdown",
   "id": "074613f0",
   "metadata": {},
   "source": [
    "#### Classification"
   ]
  },
  {
   "cell_type": "markdown",
   "id": "a05c0ab3",
   "metadata": {},
   "source": [
    "We will classify if the plane arrived on time or not. The idea to predict this before the plane departure, so, we will also drop `'dep_delay', 'arr_delay', 'arr_time', 'dep_time', 'air_time'` features that can be observed only after the flight will be started."
   ]
  },
  {
   "cell_type": "code",
   "execution_count": 104,
   "id": "71fed59b",
   "metadata": {},
   "outputs": [
    {
     "data": {
      "text/plain": [
       "Index(['year', 'month', 'day', 'sched_dep_time', 'sched_arr_time', 'carrier',\n",
       "       'flight', 'tailnum', 'origin', 'dest', 'distance', 'hour', 'minute',\n",
       "       'time_hour', 'name', 'lat', 'lon', 'alt', 'tz', 'dst', 'tzone',\n",
       "       'name_dest', 'lat_dest', 'lon_dest', 'alt_dest', 'tz_dest', 'dst_dest',\n",
       "       'tzone_dest', 'year_plane', 'type', 'manufacturer', 'model', 'engines',\n",
       "       'seats', 'speed', 'engine', 'origin_weather', 'hour_weather',\n",
       "       'wind_dir', 'wind_speed', 'wind_gust', 'visib'],\n",
       "      dtype='object')"
      ]
     },
     "execution_count": 104,
     "metadata": {},
     "output_type": "execute_result"
    }
   ],
   "source": [
    "df = data.copy()\n",
    "\n",
    "# Derive a categorical target variable\n",
    "df['on_time'] = df['arr_delay'].apply(lambda x: 'on_time' if x <= 0 else 'delayed')\n",
    "\n",
    "# Features and the new categorical target variable\n",
    "X = df.drop(columns=['on_time', 'dep_delay', 'arr_delay', 'arr_time', 'dep_time', 'air_time'])\n",
    "y = df[['on_time']]\n",
    "X.columns"
   ]
  },
  {
   "cell_type": "code",
   "execution_count": 105,
   "id": "b7770f1f",
   "metadata": {},
   "outputs": [],
   "source": [
    "# Split data into training and testing sets\n",
    "train_size = int(0.8 * len(X))\n",
    "X_train, X_test, y_train, y_test = X[:train_size], X[train_size:], (y == 'delayed').astype(int)[:train_size], (y == 'delayed').astype(int)[train_size:]"
   ]
  },
  {
   "cell_type": "code",
   "execution_count": 106,
   "id": "6ab9aaf2",
   "metadata": {},
   "outputs": [
    {
     "name": "stderr",
     "output_type": "stream",
     "text": [
      "/Users/makartkar/work/cub/data_analytics/DataAnalyticsProject/.venv/lib/python3.13/site-packages/sklearn/utils/validation.py:1408: DataConversionWarning: A column-vector y was passed when a 1d array was expected. Please change the shape of y to (n_samples, ), for example using ravel().\n",
      "  y = column_or_1d(y, warn=True)\n"
     ]
    },
    {
     "data": {
      "text/plain": [
       "0.7063415190017662"
      ]
     },
     "execution_count": 106,
     "metadata": {},
     "output_type": "execute_result"
    }
   ],
   "source": [
    "from sklearn.linear_model import LogisticRegression\n",
    "\n",
    "preprocessing_pipeline = Pipeline(steps=[\n",
    "    ('preprocessor', preprocessor),\n",
    "    ('classifier', LogisticRegression(max_iter=1000, n_jobs=16)),\n",
    "])\n",
    "preprocessing_pipeline.fit(X_train, y_train)\n",
    "preprocessing_pipeline.score(X_test, y_test)"
   ]
  },
  {
   "cell_type": "code",
   "execution_count": null,
   "id": "08c494c7",
   "metadata": {},
   "outputs": [
    {
     "name": "stderr",
     "output_type": "stream",
     "text": [
      "/Users/makartkar/work/cub/data_analytics/DataAnalyticsProject/.venv/lib/python3.13/site-packages/sklearn/utils/validation.py:1408: DataConversionWarning: A column-vector y was passed when a 1d array was expected. Please change the shape of y to (n_samples, ), for example using ravel().\n",
      "  y = column_or_1d(y, warn=True)\n"
     ]
    },
    {
     "data": {
      "text/plain": [
       "0.7074499769502903"
      ]
     },
     "execution_count": 65,
     "metadata": {},
     "output_type": "execute_result"
    }
   ],
   "source": [
    "from sklearn.svm import LinearSVC\n",
    "\n",
    "preprocessing_pipeline = Pipeline(steps=[\n",
    "    ('preprocessor', preprocessor),\n",
    "    ('classifier', LinearSVC()),\n",
    "])\n",
    "preprocessing_pipeline.fit(X_train, y_train)\n",
    "preprocessing_pipeline.score(X_test, y_test)"
   ]
  },
  {
   "cell_type": "code",
   "execution_count": null,
   "id": "4770d21d",
   "metadata": {},
   "outputs": [
    {
     "name": "stderr",
     "output_type": "stream",
     "text": [
      "/Users/makartkar/work/cub/data_analytics/DataAnalyticsProject/.venv/lib/python3.13/site-packages/sklearn/utils/validation.py:1408: DataConversionWarning: A column-vector y was passed when a 1d array was expected. Please change the shape of y to (n_samples, ), for example using ravel().\n",
      "  y = column_or_1d(y, warn=True)\n"
     ]
    },
    {
     "data": {
      "text/plain": [
       "0.7392378574647391"
      ]
     },
     "execution_count": 66,
     "metadata": {},
     "output_type": "execute_result"
    }
   ],
   "source": [
    "from sklearn.naive_bayes import GaussianNB\n",
    "\n",
    "preprocessing_pipeline = Pipeline(steps=[\n",
    "    ('preprocessor', preprocessor),\n",
    "    ('classifier', GaussianNB()),\n",
    "])\n",
    "preprocessing_pipeline.fit(X_train, y_train)\n",
    "preprocessing_pipeline.score(X_test, y_test)"
   ]
  },
  {
   "cell_type": "code",
   "execution_count": null,
   "id": "714587a6",
   "metadata": {},
   "outputs": [
    {
     "name": "stderr",
     "output_type": "stream",
     "text": [
      "/Users/makartkar/work/cub/data_analytics/DataAnalyticsProject/.venv/lib/python3.13/site-packages/sklearn/base.py:1389: DataConversionWarning: A column-vector y was passed when a 1d array was expected. Please change the shape of y to (n_samples,), for example using ravel().\n",
      "  return fit_method(estimator, *args, **kwargs)\n"
     ]
    },
    {
     "data": {
      "text/plain": [
       "0.6988361191540498"
      ]
     },
     "execution_count": 67,
     "metadata": {},
     "output_type": "execute_result"
    }
   ],
   "source": [
    "from sklearn.ensemble import ExtraTreesClassifier\n",
    "\n",
    "preprocessing_pipeline = Pipeline(steps=[\n",
    "    ('preprocessor', preprocessor),\n",
    "    ('classifier', ExtraTreesClassifier()),\n",
    "])\n",
    "preprocessing_pipeline.fit(X_train, y_train)\n",
    "preprocessing_pipeline.score(X_test, y_test)"
   ]
  },
  {
   "cell_type": "code",
   "execution_count": null,
   "id": "2a63c687",
   "metadata": {},
   "outputs": [
    {
     "name": "stderr",
     "output_type": "stream",
     "text": [
      "/Users/makartkar/work/cub/data_analytics/DataAnalyticsProject/.venv/lib/python3.13/site-packages/sklearn/utils/validation.py:1408: DataConversionWarning: A column-vector y was passed when a 1d array was expected. Please change the shape of y to (n_samples, ), for example using ravel().\n",
      "  y = column_or_1d(y, warn=True)\n"
     ]
    },
    {
     "data": {
      "text/plain": [
       "0.7317272779069828"
      ]
     },
     "execution_count": 68,
     "metadata": {},
     "output_type": "execute_result"
    }
   ],
   "source": [
    "from sklearn.ensemble import HistGradientBoostingClassifier\n",
    "\n",
    "preprocessing_pipeline = Pipeline(steps=[\n",
    "    ('preprocessor', preprocessor),\n",
    "    ('classifier', HistGradientBoostingClassifier(max_iter=1000)),\n",
    "])\n",
    "preprocessing_pipeline.fit(X_train, y_train)\n",
    "preprocessing_pipeline.score(X_test, y_test)"
   ]
  },
  {
   "cell_type": "code",
   "execution_count": null,
   "id": "89fa91dc",
   "metadata": {},
   "outputs": [
    {
     "name": "stderr",
     "output_type": "stream",
     "text": [
      "/Users/makartkar/work/cub/data_analytics/DataAnalyticsProject/.venv/lib/python3.13/site-packages/sklearn/neural_network/_multilayer_perceptron.py:1119: DataConversionWarning: A column-vector y was passed when a 1d array was expected. Please change the shape of y to (n_samples, ), for example using ravel().\n",
      "  y = column_or_1d(y, warn=True)\n"
     ]
    },
    {
     "data": {
      "text/plain": [
       "0.7444227472146109"
      ]
     },
     "execution_count": 69,
     "metadata": {},
     "output_type": "execute_result"
    }
   ],
   "source": [
    "from sklearn.neural_network import MLPClassifier\n",
    "\n",
    "preprocessing_pipeline = Pipeline(steps=[\n",
    "    ('preprocessor', preprocessor),\n",
    "    ('classifier', MLPClassifier()),\n",
    "])\n",
    "preprocessing_pipeline.fit(X_train, y_train)\n",
    "preprocessing_pipeline.score(X_test, y_test)"
   ]
  },
  {
   "cell_type": "markdown",
   "id": "88b87d68",
   "metadata": {},
   "source": [
    "#### Results"
   ]
  },
  {
   "cell_type": "markdown",
   "id": "20986d7a",
   "metadata": {},
   "source": [
    "| Model  | Accuracy  |\n",
    "|---|---|\n",
    "| LogisticRegression  | 0.71  |\n",
    "| LinearSVC  | 0.71  |\n",
    "| GaussianNB  | 0.739  |\n",
    "| ExtraTreesClassifier  | 0.70  |\n",
    "| HistGradientBoostingClassifier  | 0.73  |\n",
    "| MLPClassifier  | 0.744  |"
   ]
  },
  {
   "cell_type": "markdown",
   "id": "873dcf8b",
   "metadata": {},
   "source": [
    "#### Regression"
   ]
  },
  {
   "cell_type": "markdown",
   "id": "2ba5e0af",
   "metadata": {},
   "source": [
    "For regression task we chose the duration of delay. We will drop the same features as for classification task."
   ]
  },
  {
   "cell_type": "code",
   "execution_count": 107,
   "id": "68cedd96",
   "metadata": {},
   "outputs": [
    {
     "data": {
      "text/plain": [
       "Index(['year', 'month', 'day', 'sched_dep_time', 'sched_arr_time', 'carrier',\n",
       "       'flight', 'tailnum', 'origin', 'dest', 'distance', 'hour', 'minute',\n",
       "       'time_hour', 'name', 'lat', 'lon', 'alt', 'tz', 'dst', 'tzone',\n",
       "       'name_dest', 'lat_dest', 'lon_dest', 'alt_dest', 'tz_dest', 'dst_dest',\n",
       "       'tzone_dest', 'year_plane', 'type', 'manufacturer', 'model', 'engines',\n",
       "       'seats', 'speed', 'engine', 'origin_weather', 'hour_weather',\n",
       "       'wind_dir', 'wind_speed', 'wind_gust', 'visib'],\n",
       "      dtype='object')"
      ]
     },
     "execution_count": 107,
     "metadata": {},
     "output_type": "execute_result"
    }
   ],
   "source": [
    "df = data.copy()\n",
    "\n",
    "# Features and the new categorical target variable\n",
    "X = df.drop(columns=['dep_delay', 'arr_delay', 'arr_time', 'dep_time', 'air_time'])\n",
    "y = df[['arr_delay']]\n",
    "X.columns"
   ]
  },
  {
   "cell_type": "code",
   "execution_count": 108,
   "id": "f808b6a4",
   "metadata": {},
   "outputs": [],
   "source": [
    "# Split data into training and testing sets\n",
    "train_size = int(0.8 * len(X))\n",
    "X_train, X_test, y_train, y_test = X[:train_size], X[train_size:], y[:train_size], y[train_size:]"
   ]
  },
  {
   "cell_type": "code",
   "execution_count": 109,
   "id": "7854d49b",
   "metadata": {},
   "outputs": [
    {
     "data": {
      "text/plain": [
       "np.float64(32.59838678430545)"
      ]
     },
     "execution_count": 109,
     "metadata": {},
     "output_type": "execute_result"
    }
   ],
   "source": [
    "import numpy as np\n",
    "\n",
    "from sklearn.linear_model import LinearRegression\n",
    "\n",
    "preprocessing_pipeline = Pipeline(steps=[\n",
    "    ('preprocessor', preprocessor),\n",
    "    ('classifier', LinearRegression(n_jobs=16)),\n",
    "])\n",
    "preprocessing_pipeline.fit(X_train, y_train)\n",
    "preds = preprocessing_pipeline.predict(X_test)\n",
    "np.mean(np.abs(y_test.values - preds))"
   ]
  },
  {
   "cell_type": "code",
   "execution_count": 110,
   "id": "6b9eacfd",
   "metadata": {},
   "outputs": [
    {
     "name": "stderr",
     "output_type": "stream",
     "text": [
      "/Users/makartkar/work/cub/data_analytics/DataAnalyticsProject/.venv/lib/python3.13/site-packages/sklearn/utils/validation.py:1408: DataConversionWarning: A column-vector y was passed when a 1d array was expected. Please change the shape of y to (n_samples, ), for example using ravel().\n",
      "  y = column_or_1d(y, warn=True)\n"
     ]
    },
    {
     "data": {
      "text/plain": [
       "np.float64(21.284355470955056)"
      ]
     },
     "execution_count": 110,
     "metadata": {},
     "output_type": "execute_result"
    }
   ],
   "source": [
    "from sklearn.svm import LinearSVR\n",
    "\n",
    "preprocessing_pipeline = Pipeline(steps=[\n",
    "    ('preprocessor', preprocessor),\n",
    "    ('classifier', LinearSVR()),\n",
    "])\n",
    "preprocessing_pipeline.fit(X_train, y_train)\n",
    "preds = preprocessing_pipeline.predict(X_test)\n",
    "np.mean(np.abs(y_test.values[:, 0] - preds))"
   ]
  },
  {
   "cell_type": "code",
   "execution_count": 111,
   "id": "36327f95",
   "metadata": {},
   "outputs": [
    {
     "name": "stderr",
     "output_type": "stream",
     "text": [
      "/Users/makartkar/work/cub/data_analytics/DataAnalyticsProject/.venv/lib/python3.13/site-packages/sklearn/utils/validation.py:1408: DataConversionWarning: A column-vector y was passed when a 1d array was expected. Please change the shape of y to (n_samples, ), for example using ravel().\n",
      "  y = column_or_1d(y, warn=True)\n"
     ]
    },
    {
     "data": {
      "text/plain": [
       "np.float64(32.60500988382168)"
      ]
     },
     "execution_count": 111,
     "metadata": {},
     "output_type": "execute_result"
    }
   ],
   "source": [
    "from sklearn.linear_model import BayesianRidge\n",
    "\n",
    "preprocessing_pipeline = Pipeline(steps=[\n",
    "    ('preprocessor', preprocessor),\n",
    "    ('classifier', BayesianRidge()),\n",
    "])\n",
    "preprocessing_pipeline.fit(X_train, y_train)\n",
    "preds = preprocessing_pipeline.predict(X_test)\n",
    "np.mean(np.abs(y_test.values[:, 0] - preds))"
   ]
  },
  {
   "cell_type": "code",
   "execution_count": 112,
   "id": "9297d3bc",
   "metadata": {},
   "outputs": [],
   "source": [
    "# from sklearn.ensemble import RandomForestRegressor\n",
    "\n",
    "# preprocessing_pipeline = Pipeline(steps=[\n",
    "#     ('preprocessor', preprocessor),\n",
    "#     ('classifier', RandomForestRegressor(verbose=True)),\n",
    "# ])\n",
    "# preprocessing_pipeline.fit(X_train, y_train)\n",
    "# preds = preprocessing_pipeline.predict(X_test)\n",
    "# np.mean(np.abs(y_test.values[:, 0] - preds))"
   ]
  },
  {
   "cell_type": "code",
   "execution_count": 113,
   "id": "e547276e",
   "metadata": {},
   "outputs": [
    {
     "name": "stderr",
     "output_type": "stream",
     "text": [
      "/Users/makartkar/work/cub/data_analytics/DataAnalyticsProject/.venv/lib/python3.13/site-packages/sklearn/utils/validation.py:1408: DataConversionWarning: A column-vector y was passed when a 1d array was expected. Please change the shape of y to (n_samples, ), for example using ravel().\n",
      "  y = column_or_1d(y, warn=True)\n"
     ]
    },
    {
     "data": {
      "text/plain": [
       "np.float64(25.850007783094618)"
      ]
     },
     "execution_count": 113,
     "metadata": {},
     "output_type": "execute_result"
    }
   ],
   "source": [
    "from sklearn.ensemble import HistGradientBoostingRegressor\n",
    "\n",
    "preprocessing_pipeline = Pipeline(steps=[\n",
    "    ('preprocessor', preprocessor),\n",
    "    ('classifier', HistGradientBoostingRegressor(max_iter=1000)),\n",
    "])\n",
    "preprocessing_pipeline.fit(X_train, y_train)\n",
    "preds = preprocessing_pipeline.predict(X_test)\n",
    "np.mean(np.abs(y_test.values[:, 0] - preds))"
   ]
  },
  {
   "cell_type": "code",
   "execution_count": 114,
   "id": "1b889e5f",
   "metadata": {},
   "outputs": [
    {
     "name": "stderr",
     "output_type": "stream",
     "text": [
      "/Users/makartkar/work/cub/data_analytics/DataAnalyticsProject/.venv/lib/python3.13/site-packages/sklearn/neural_network/_multilayer_perceptron.py:1645: DataConversionWarning: A column-vector y was passed when a 1d array was expected. Please change the shape of y to (n_samples, ), for example using ravel().\n",
      "  y = column_or_1d(y, warn=True)\n",
      "/Users/makartkar/work/cub/data_analytics/DataAnalyticsProject/.venv/lib/python3.13/site-packages/sklearn/neural_network/_multilayer_perceptron.py:691: ConvergenceWarning: Stochastic Optimizer: Maximum iterations (200) reached and the optimization hasn't converged yet.\n",
      "  warnings.warn(\n"
     ]
    },
    {
     "data": {
      "text/plain": [
       "np.float64(37.32654896577927)"
      ]
     },
     "execution_count": 114,
     "metadata": {},
     "output_type": "execute_result"
    }
   ],
   "source": [
    "from sklearn.neural_network import MLPRegressor\n",
    "\n",
    "preprocessing_pipeline = Pipeline(steps=[\n",
    "    ('preprocessor', preprocessor),\n",
    "    ('classifier', MLPRegressor()),\n",
    "])\n",
    "preprocessing_pipeline.fit(X_train, y_train)\n",
    "preds = preprocessing_pipeline.predict(X_test)\n",
    "np.mean(np.abs(y_test.values[:, 0] - preds))"
   ]
  },
  {
   "cell_type": "markdown",
   "id": "10ad84c4",
   "metadata": {},
   "source": [
    "#### Results"
   ]
  },
  {
   "cell_type": "markdown",
   "id": "e6182faf",
   "metadata": {},
   "source": [
    "| Model  | MAE  |\n",
    "|---|---|\n",
    "| LinearRegression  | 32.60  |\n",
    "| LinearSVR  | 21.28  |\n",
    "| BayesianRidge  | 32.60  |\n",
    "| RandomForestRegressor  | training is too long  |\n",
    "| HistGradientBoostingRegressor  | 25.85  |\n",
    "| MLPRegressor  | 37.33  |"
   ]
  }
 ],
 "metadata": {
  "kernelspec": {
   "display_name": ".venv",
   "language": "python",
   "name": "python3"
  },
  "language_info": {
   "codemirror_mode": {
    "name": "ipython",
    "version": 3
   },
   "file_extension": ".py",
   "mimetype": "text/x-python",
   "name": "python",
   "nbconvert_exporter": "python",
   "pygments_lexer": "ipython3",
   "version": "3.13.0"
  }
 },
 "nbformat": 4,
 "nbformat_minor": 5
}
